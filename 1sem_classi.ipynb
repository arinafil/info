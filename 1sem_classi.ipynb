{
  "nbformat": 4,
  "nbformat_minor": 0,
  "metadata": {
    "colab": {
      "provenance": [],
      "authorship_tag": "ABX9TyO5RImjsRELcUqvXBOoOMX3",
      "include_colab_link": true
    },
    "kernelspec": {
      "name": "python3",
      "display_name": "Python 3"
    },
    "language_info": {
      "name": "python"
    }
  },
  "cells": [
    {
      "cell_type": "markdown",
      "metadata": {
        "id": "view-in-github",
        "colab_type": "text"
      },
      "source": [
        "<a href=\"https://colab.research.google.com/github/arinafil/info/blob/main/1sem_classi.ipynb\" target=\"_parent\"><img src=\"https://colab.research.google.com/assets/colab-badge.svg\" alt=\"Open In Colab\"/></a>"
      ]
    },
    {
      "cell_type": "code",
      "execution_count": null,
      "metadata": {
        "id": "AzgdSg-SdmTs"
      },
      "outputs": [],
      "source": [
        "class Student(object):\n",
        "  def __init__(self, age, group, sleep):\n",
        "    self.age=age\n",
        "    self.group=group\n",
        "    self.sleep=sleep\n"
      ]
    },
    {
      "cell_type": "code",
      "source": [
        "student=Student(18, 486, 56)\n",
        "student.age, student.sleep, student.group"
      ],
      "metadata": {
        "colab": {
          "base_uri": "https://localhost:8080/"
        },
        "id": "Ly-Cw99zd7fr",
        "outputId": "5c0bfa03-abc7-483d-9d6f-5f7e95e839d7"
      },
      "execution_count": null,
      "outputs": [
        {
          "output_type": "execute_result",
          "data": {
            "text/plain": [
              "(18, 56, 486)"
            ]
          },
          "metadata": {},
          "execution_count": 4
        }
      ]
    },
    {
      "cell_type": "code",
      "source": [
        "class Student(object):\n",
        "  LifePurpose=42\n",
        "  def __init__(self, age, group, sleep):\n",
        "    self.age=age\n",
        "    self.group=group\n",
        "    self.sleep=sleep\n",
        "\n",
        "  def happiness(self)-> bool:\n",
        "    if self.sleep>42:\n",
        "       return True\n",
        "    return False\n",
        "\n",
        "class LazyStudent(object):\n",
        "  age=None"
      ],
      "metadata": {
        "id": "N7OTtGx2eSOh"
      },
      "execution_count": null,
      "outputs": []
    },
    {
      "cell_type": "code",
      "source": [
        "lazy_student=LazyStudent()\n",
        "lazy_student.age=30"
      ],
      "metadata": {
        "id": "B7MYOpSBeSTV"
      },
      "execution_count": null,
      "outputs": []
    },
    {
      "cell_type": "code",
      "source": [
        "class Student(object):\n",
        "  LifePurpose=42\n",
        "  def __init__(self, age, group, sleep):\n",
        "    self.age=age\n",
        "    self.group=group\n",
        "    self.sleep=sleep\n",
        "\n",
        "  def happiness(self, fooad:bool=True)-> bool:\n",
        "    if self.sleep>42:\n",
        "       return True\n",
        "    return False\n",
        "\n",
        "class BMstudent(Student):   # класс в классе init не надо прописывать\n",
        "  def happiness(self, hours_of_chemistry =6)-> bool:\n",
        "    if self.sleep>42 and hours_of_chemistry<=6:\n",
        "       return True\n",
        "    return False\n"
      ],
      "metadata": {
        "id": "h_-_p_Z5fGzj"
      },
      "execution_count": null,
      "outputs": []
    },
    {
      "cell_type": "code",
      "source": [
        "bm_student=BMstudent(20, 202, 43)\n",
        "bm_student.happiness(6)"
      ],
      "metadata": {
        "colab": {
          "base_uri": "https://localhost:8080/"
        },
        "id": "3C0cH6nBg0Oo",
        "outputId": "03fe2df8-15a8-48a0-d3dc-f37357716328"
      },
      "execution_count": null,
      "outputs": [
        {
          "output_type": "execute_result",
          "data": {
            "text/plain": [
              "True"
            ]
          },
          "metadata": {},
          "execution_count": 17
        }
      ]
    }
  ]
}