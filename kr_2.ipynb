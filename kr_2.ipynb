{
  "nbformat": 4,
  "nbformat_minor": 0,
  "metadata": {
    "colab": {
      "provenance": [],
      "authorship_tag": "ABX9TyOnxu7l+1FCCNp99SAf31o3",
      "include_colab_link": true
    },
    "kernelspec": {
      "name": "python3",
      "display_name": "Python 3"
    },
    "language_info": {
      "name": "python"
    }
  },
  "cells": [
    {
      "cell_type": "markdown",
      "metadata": {
        "id": "view-in-github",
        "colab_type": "text"
      },
      "source": [
        "<a href=\"https://colab.research.google.com/github/arinafil/info/blob/main/kr_2.ipynb\" target=\"_parent\"><img src=\"https://colab.research.google.com/assets/colab-badge.svg\" alt=\"Open In Colab\"/></a>"
      ]
    },
    {
      "cell_type": "code",
      "execution_count": null,
      "metadata": {
        "id": "n70dGDclV6Mh"
      },
      "outputs": [],
      "source": [
        "s = input().split()\n",
        "s = sorted(s, key = lambda x:len(x))\n",
        "print(len(s[0]), len(s[len(s) - 1]))"
      ]
    },
    {
      "cell_type": "code",
      "source": [
        "s = input()\n",
        "s1 = \"\"\n",
        "f = 0\n",
        "for i in range(0, len(s)):\n",
        "    if s[i] == \" \":\n",
        "        s1 += s[i]\n",
        "        continue\n",
        "    if f == 0:\n",
        "        s1 += s[i].upper()\n",
        "        f = 1\n",
        "    else:\n",
        "        s1 += s[i].lower()\n",
        "        f = 0\n",
        "\n",
        "print(s1)"
      ],
      "metadata": {
        "id": "KcWn_VePXEFk"
      },
      "execution_count": null,
      "outputs": []
    },
    {
      "cell_type": "code",
      "source": [
        "alphabet = ['A', 'B', 'C', 'D', 'E', 'F', 'G', 'H', 'I', 'J', 'K', 'L', 'M', 'N', 'O', 'P', 'Q', 'R', 'S', 'T', 'U', 'V', 'W', 'X', 'Y', 'Z']\n",
        "s = input()\n",
        "coun = [0] * len(s)\n",
        "for i in range(0, len(s)):\n",
        "    if s[i] != \" \":\n",
        "        coun[alphabet.index(s[i])] += 1\n",
        "\n",
        "for i in range(0, len(s)):\n",
        "    if coun[i] != 0:\n",
        "        print(alphabet[i], coun[i])"
      ],
      "metadata": {
        "id": "1fTywr6dXFV5"
      },
      "execution_count": null,
      "outputs": []
    },
    {
      "cell_type": "code",
      "source": [
        "def calculate_molweight(molecule):\n",
        "    weights = {'C': 12, 'H': 1, 'N': 14, 'O': 16}\n",
        "    total_weight = 0\n",
        "    i = 0\n",
        "    while i < len(molecule):\n",
        "        if i == len(molecule) - 1:\n",
        "            total_weight += int(weights[molecule[i]])\n",
        "            break\n",
        "        else:\n",
        "            if molecule[i + 1].isdigit() != True:\n",
        "                total_weight += int(weights[molecule[i]])\n",
        "                i += 1\n",
        "            else:\n",
        "                total_weight += int(weights[molecule[i]]) * int(molecule[i + 1])\n",
        "                i += 2\n",
        "    return total_weight\n",
        "\n",
        "def merge_by_molweight(L, R):\n",
        "    merged = []\n",
        "    i, j = 0, 0\n",
        "    while i < len(L) and j < len(R):\n",
        "        if calculate_molweight(L[i]) <= calculate_molweight(R[j]):\n",
        "            merged.append(L[i])\n",
        "            i += 1\n",
        "        else:\n",
        "            merged.append(R[j])\n",
        "            j += 1\n",
        "    merged += L[i:]\n",
        "    merged += R[j:]\n",
        "    return merged"
      ],
      "metadata": {
        "id": "l40STaVMYrS8"
      },
      "execution_count": null,
      "outputs": []
    },
    {
      "cell_type": "code",
      "source": [
        "def hanoi(N, i, k, arr):\n",
        "    if N == 1:\n",
        "        if i + k != 4:\n",
        "            arr.append([N, i, k])\n",
        "        else:\n",
        "            arr.append([N, i, 2])\n",
        "            arr.append([N, 2, k])\n",
        "    else:\n",
        "        tmp = 6 - i - k\n",
        "        if i + k != 4:\n",
        "            hanoi(N - 1, i, tmp, arr)\n",
        "            arr.append([N, i, k])\n",
        "            hanoi(N- 1, tmp, k, arr)\n",
        "        else:\n",
        "            hanoi(N - 1, i, k, arr)\n",
        "            arr.append([N, i, tmp])\n",
        "            hanoi(N - 1, k, i, arr)\n",
        "            arr.append([N, tmp, k])\n",
        "            hanoi(N - 1, i, k, arr)\n",
        "    return arr\n",
        "\n",
        "arr = hanoi(N, 1, 3, [])"
      ],
      "metadata": {
        "id": "ai7YVrWLZA88"
      },
      "execution_count": null,
      "outputs": []
    },
    {
      "cell_type": "code",
      "source": [
        "n, k  = input().split()\n",
        "k = int(k)\n",
        "n = int(n)\n",
        "s = input().split()\n",
        "arr= []\n",
        "for i in range(0, n):\n",
        "    arr.append(int(s[i]))\n",
        "\n",
        "l = int(0)\n",
        "r = int(arr[n - 1] - arr[0])\n",
        "while(l < r):\n",
        "    m = (l + r) // 2\n",
        "    count = int(1)\n",
        "    j = int(0)\n",
        "    for i in range(0, n, 1):\n",
        "        if abs(arr[i] - arr[j] >= m):\n",
        "            count += 1\n",
        "            j = i\n",
        "    if count >= k:\n",
        "           l = m + 1\n",
        "    else:\n",
        "        r = m\n",
        "\n",
        "print(r - 1)"
      ],
      "metadata": {
        "id": "CxOHgw9yZlmi"
      },
      "execution_count": null,
      "outputs": []
    },
    {
      "cell_type": "code",
      "source": [
        "#гвоздики\n",
        "x =list(map(int, input().split()))\n",
        "x=sorted(x)\n",
        "dp = [0] * len(x)\n",
        "dp[0] = 30000\n",
        "dp[1] = x[1] - x[0]\n",
        "for i in range(2, len(x),1):\n",
        "    dp[i] = min(dp[i - 2], dp[i - 1]) + x[i] - x[i - 1]\n",
        "\n",
        "print(dp[len(x) - 1])"
      ],
      "metadata": {
        "id": "g5Qp2nzJZzBP",
        "colab": {
          "base_uri": "https://localhost:8080/"
        },
        "outputId": "9573709d-45f8-491f-debf-45439b02d623"
      },
      "execution_count": null,
      "outputs": [
        {
          "output_type": "stream",
          "name": "stdout",
          "text": [
            "3 4 12 6 14 13\n",
            "5\n"
          ]
        }
      ]
    },
    {
      "cell_type": "code",
      "source": [
        "#белый король\n",
        "board = [[True for _ in range(8)] for i in range(8)]\n",
        "s = input()\n",
        "k1 = -1\n",
        "if s[0] == 'a':\n",
        "    k1 = 0\n",
        "if s[0] == 'b':\n",
        "    k1 = 1\n",
        "if s[0] == 'c':\n",
        "    k1 = 2\n",
        "if s[0] == 'd':\n",
        "    k1 = 3\n",
        "if s[0] == 'e':\n",
        "    k1 = 4\n",
        "if s[0] == 'f':\n",
        "    k1 = 5\n",
        "if s[0] == 'g':\n",
        "    k1 = 6\n",
        "if s[0] == 'h':\n",
        "    k1 = 7\n",
        "k2 = int(s[1]) - 1\n",
        "\n",
        "if (k1 + 2) <= 7 and (k1 + 2) >= 0:\n",
        "    if (k2 + 1) <=7 and (k2 + 1) >= 0:\n",
        "        board[k1 + 2][k2 + 1] = False\n",
        "if (k1 + 2) <= 7 and (k1 + 2) >= 0:\n",
        "    if (k2 - 1) <=7 and (k2 - 1) >= 0:\n",
        "        board[k1 + 2][k2 - 1] = False\n",
        "if (k1 - 2) <= 7 and (k1 - 2) >= 0:\n",
        "    if (k2 + 1) <=7 and (k2 + 1) >= 0:\n",
        "        board[k1 - 2][k2 + 1] = False\n",
        "if (k1 - 2) <= 7 and (k1 - 2) >= 0:\n",
        "    if (k2 - 1) <=7 and (k2 - 1) >= 0:\n",
        "        board[k1 - 2][k2 - 1] = False\n",
        "if (k2 + 2) <= 7 and (k2 + 2) >=0:\n",
        "    if (k1 + 1) <= 7 and (k1 + 1) >=0:\n",
        "        board[k1 + 1][k2 + 2] = False\n",
        "if (k2 + 2) <= 7 and (k2 + 2) >=0:\n",
        "    if (k1 - 1) <= 7 and (k1 - 1) >=0:\n",
        "        board[k1 - 1 ][k2 + 2] = False\n",
        "if (k2 - 2) <= 7 and (k2 - 2) >=0:\n",
        "    if (k1 + 1) <= 7 and (k1 + 1) >=0:\n",
        "        board[k1 + 1][k2 - 2] = False\n",
        "if (k2 - 2) <= 7 and (k2 - 2) >=0:\n",
        "    if (k1 - 1) <= 7 and (k1 - 1) >=0:\n",
        "        board[k1 - 1][k2 - 2] = False\n",
        "board[k1][k2] = False\n",
        "\n",
        "def ways(a, b, board):\n",
        "    if a >7 or b>7 or a<0 or b<0:\n",
        "        return 0\n",
        "    if board[a][b] == False:\n",
        "        return 0\n",
        "    if a == 7 and b == 7:\n",
        "        return 1\n",
        "    return ( ways(a+1, b, board) + ways(a, b+1, board) + ways(a+1, b+1, board) )\n",
        "\n",
        "if board[7][7] == False:\n",
        "    print(0)\n",
        "elif board[0][0] == False:\n",
        "    print(0)\n",
        "else:\n",
        "    print(ways(0, 0, board))"
      ],
      "metadata": {
        "id": "SnfzKL2td4K7"
      },
      "execution_count": null,
      "outputs": []
    },
    {
      "cell_type": "code",
      "source": [],
      "metadata": {
        "id": "4oIjuQWP-Caj"
      },
      "execution_count": null,
      "outputs": []
    },
    {
      "cell_type": "code",
      "source": [
        "# редакционное расстояние\n",
        "s = input().split()\n",
        "cost_insert = int(s[0])\n",
        "cost_del = int(s[1])\n",
        "cost_replace = int(s[2])\n",
        "a = input()\n",
        "b = input()\n",
        "F = [[0 for j in range(len(b) + 1)] for i in range(len(a) + 1) ]\n",
        "\n",
        "F[0][0] = 0\n",
        "\n",
        "for i in range(1, len(a) + 1):\n",
        "    F[i][0] = F[i - 1][0] + cost_del\n",
        "    for j in range(1, len(b) + 1):\n",
        "        F[0][j] = F[0][j - 1] + cost_insert\n",
        "        if a[i - 1] == b[j - 1]:\n",
        "            F[i][j] = F[i - 1][j - 1]\n",
        "        else:\n",
        "            F[i][j] = min(F[i - 1][j - 1] + cost_replace, F[i - 1][j] + cost_del, F[i][j - 1] + cost_insert)\n",
        "\n",
        "print(F[len(a)][len(b)])"
      ],
      "metadata": {
        "id": "Z1Jchcded4yJ"
      },
      "execution_count": null,
      "outputs": []
    },
    {
      "cell_type": "code",
      "source": [
        "#последняя\n",
        "def plus(a, b):\n",
        "    return [int(a[0]) + int(b[0]), int(a[1]) + int(b[1]), int(a[2]) + int(b[2])]\n",
        "\n",
        "\n",
        "def multiply(a, b):\n",
        "    return [int(a[1]) * int(b[2]) - int(a[2]) * int(b[1]), - int(a[0]) * int(b[2]) + int(a[2]) * int(b[0]),\n",
        "            int(a[0]) * int(b[1]) - int(b[0]) * int(a[1])]\n",
        "\n",
        "\n",
        "s = input()\n",
        "l = 0\n",
        "arr = []\n",
        "while l < len(s):\n",
        "    s1 = []\n",
        "    while l < len(s) and (s[l] != \"+\" and s[l] != \"*\"):\n",
        "        if s[l] != \",\":\n",
        "            s1 += s[l]\n",
        "        l += 1\n",
        "\n",
        "    i = 0\n",
        "    a = []\n",
        "    while i < len(s1) and s1[i] != \" \":\n",
        "        a.append(int(s1[i]))\n",
        "        i += 1\n",
        "    i += 1\n",
        "\n",
        "    b = []\n",
        "    while i < len(s1) and s1[i] != \" \":\n",
        "        b.append(int(s1[i]))\n",
        "        i += 1\n",
        "\n",
        "    if len(a) != 0 and len(b) != 0:\n",
        "        if s[l] == \"+\":\n",
        "            arr.append(plus(a, b))\n",
        "        if s[l] == '*':\n",
        "            arr.append(multiply(a, b))\n",
        "    else:\n",
        "        if s[l] == \"+\":\n",
        "            a1 = arr[-2]\n",
        "            b1 = arr[-1]\n",
        "            arr.pop()\n",
        "            arr.pop()\n",
        "            arr.append(plus(a1, b1))\n",
        "        if s[l] == '*':\n",
        "            a1 = arr[-2]\n",
        "            b1 = arr[-1]\n",
        "            arr.pop()\n",
        "            arr.pop()\n",
        "            arr.append(multiply(a1, b1))\n",
        "    l += 2\n",
        "\n",
        "print(arr[0][0], end = \",\")\n",
        "print(arr[0][1], end = \",\")\n",
        "print(arr[0][2])\n"
      ],
      "metadata": {
        "colab": {
          "base_uri": "https://localhost:8080/"
        },
        "id": "fhiYgofveq8X",
        "outputId": "a60d5950-f248-4ca1-c6f7-654ab19c6e19"
      },
      "execution_count": null,
      "outputs": [
        {
          "output_type": "stream",
          "name": "stdout",
          "text": [
            "1,2,3 4,5,6 * 1,2,3 4,5,6 * +\n",
            "-6,12,-6\n"
          ]
        }
      ]
    }
  ]
}