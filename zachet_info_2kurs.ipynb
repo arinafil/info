{
  "cells": [
    {
      "cell_type": "markdown",
      "metadata": {
        "id": "view-in-github",
        "colab_type": "text"
      },
      "source": [
        "<a href=\"https://colab.research.google.com/github/arinafil/info/blob/main/zachet_info_2kurs.ipynb\" target=\"_parent\"><img src=\"https://colab.research.google.com/assets/colab-badge.svg\" alt=\"Open In Colab\"/></a>"
      ]
    },
    {
      "cell_type": "markdown",
      "id": "8d150fb3",
      "metadata": {
        "id": "8d150fb3"
      },
      "source": [
        "Однопроходные алгоритмы обработки\n",
        "последовательности: подсчёт, сумма, произведение."
      ]
    },
    {
      "cell_type": "code",
      "execution_count": null,
      "id": "d2d3121d",
      "metadata": {
        "id": "d2d3121d",
        "outputId": "29c4f012-0b88-48e8-b8a0-e28445bbbfac"
      },
      "outputs": [
        {
          "name": "stdout",
          "output_type": "stream",
          "text": [
            "2\n",
            "12\n",
            "34\n",
            "0\n",
            "48\n"
          ]
        }
      ],
      "source": [
        "#Сумма элементов\n",
        "s = 0\n",
        "n = int(input())\n",
        "while n != 0:\n",
        "    s += n\n",
        "    n = int(input())\n",
        "print(s)"
      ]
    },
    {
      "cell_type": "code",
      "execution_count": null,
      "id": "65c35937",
      "metadata": {
        "id": "65c35937",
        "outputId": "c55e2b3b-fdcd-4639-d3ce-2c32826995b1"
      },
      "outputs": [
        {
          "name": "stdout",
          "output_type": "stream",
          "text": [
            "2\n"
          ]
        }
      ],
      "source": [
        "#Подсчёт элементов последовательности\n",
        "k = 0 #счётчик элементов\n",
        "n = [1, 2]\n",
        "for i in range(len(n)): #по индексам проходит элементы массива n\n",
        "    k += 1 #каждый раз добавляет единицу к счётчику, итоговое значение счётчика и будет числом элементов\n",
        "print(k)"
      ]
    },
    {
      "cell_type": "code",
      "execution_count": null,
      "id": "6924fcef",
      "metadata": {
        "id": "6924fcef",
        "outputId": "8eb6e3d6-d621-4a29-d574-ff3e62aa51cc"
      },
      "outputs": [
        {
          "name": "stdout",
          "output_type": "stream",
          "text": [
            "2\n",
            "3\n",
            "0\n",
            "6\n"
          ]
        }
      ],
      "source": [
        "#Произведение элементов\n",
        "s = 1\n",
        "n = int(input())\n",
        "while n != 0:\n",
        "    s = s * n\n",
        "    n = int(input())\n",
        "print(s)"
      ]
    },
    {
      "cell_type": "markdown",
      "id": "3bf5ef93",
      "metadata": {
        "id": "3bf5ef93"
      },
      "source": [
        "Поиск максимума и подсчёт количества элементов,\n",
        "равных максимальному."
      ]
    },
    {
      "cell_type": "code",
      "execution_count": null,
      "id": "2e8d4ce9",
      "metadata": {
        "id": "2e8d4ce9",
        "outputId": "038577ef-a5b0-4628-82b8-7af0224da243"
      },
      "outputs": [
        {
          "name": "stdout",
          "output_type": "stream",
          "text": [
            "1\n",
            "2\n",
            "4\n",
            "5\n",
            "5\n",
            "0\n",
            "5 2\n"
          ]
        }
      ],
      "source": [
        "max1 = float('-inf') #берем минус бесконечность по умолчанию\n",
        "n = int(input())\n",
        "k = 1 #ключ для подсчёта максимальных элементов\n",
        "while n != 0:\n",
        "    if n > max1:\n",
        "        max1 = n\n",
        "        k = 1 #каждый новый максимум сбрасываем счётчик\n",
        "    elif n == max1: #c if не срабатывает, так как максимум меняется до, значит в любом случае n будет равно максимуму\n",
        "        k += 1 #прибавляет единичку к счётчику в случае равенства\n",
        "    n = int(input())\n",
        "print(max1, k)"
      ]
    },
    {
      "cell_type": "code",
      "execution_count": null,
      "id": "3a9a58a3",
      "metadata": {
        "id": "3a9a58a3",
        "outputId": "206e95cb-99a2-4d0e-e13c-01a083d2f34c"
      },
      "outputs": [
        {
          "name": "stdout",
          "output_type": "stream",
          "text": [
            "1 2 4 5 5 6\n",
            "6 1\n"
          ]
        }
      ],
      "source": [
        "n = list(map(int, input().split())) #создала массив\n",
        "m = n[0] #пусть максимум это первый элемент массива\n",
        "k = 1\n",
        "for i in n: #пробегаем по всему массиву\n",
        "    if i > m:\n",
        "        m = i\n",
        "        k = 1 #один максимум есть\n",
        "    elif i == m:\n",
        "        k += 1 #добавляем в счетчик\n",
        "print(m, k)\n"
      ]
    },
    {
      "cell_type": "markdown",
      "id": "d5611bba",
      "metadata": {
        "id": "d5611bba"
      },
      "source": [
        "Нахождение трёх максимальных элементов в\n",
        "последовательности за один проход."
      ]
    },
    {
      "cell_type": "code",
      "execution_count": null,
      "id": "30a4ae6f",
      "metadata": {
        "id": "30a4ae6f",
        "outputId": "2242a8a3-bf44-49bb-8f41-708bc7d2987a"
      },
      "outputs": [
        {
          "name": "stdout",
          "output_type": "stream",
          "text": [
            "2 5 5 6\n",
            "6 5 5\n"
          ]
        }
      ],
      "source": [
        "n = list(map(int, input().split()))\n",
        "max1, max2, max3 = n[0],n[0],n[0]\n",
        "for i in n:\n",
        "    if i > max1:\n",
        "        max1, max2, max3 = i, max1, max2\n",
        "    elif i > max2:\n",
        "        max2, max3 = i, max2\n",
        "    elif i > max3:\n",
        "        max3 = i\n",
        "print(max1, max2, max3)"
      ]
    },
    {
      "cell_type": "code",
      "execution_count": null,
      "id": "28b47fbf",
      "metadata": {
        "id": "28b47fbf",
        "outputId": "4bf96020-2eb6-4848-bec9-30fac5714e2e"
      },
      "outputs": [
        {
          "name": "stdout",
          "output_type": "stream",
          "text": [
            "2\n",
            "5\n",
            "5\n",
            "6\n",
            "0\n",
            "6 5 5\n"
          ]
        }
      ],
      "source": [
        "max1 = max2 = max3 = float('-inf') #берем минус бесконечность по умолчанию\n",
        "n = int(input())\n",
        "a = []\n",
        "while n != 0:\n",
        "    if n > max1:\n",
        "        max1, max2, max3 = n, max1, max2\n",
        "    elif n > max2:\n",
        "        max2, max3 = n, max2\n",
        "    elif n > max3:\n",
        "        max3 = n\n",
        "    n = int(input())\n",
        "print(max1, max2, max3)"
      ]
    },
    {
      "cell_type": "markdown",
      "id": "b2857dd4",
      "metadata": {
        "id": "b2857dd4"
      },
      "source": [
        "Поиск местоположения максимума в\n",
        "последовательности за один проход."
      ]
    },
    {
      "cell_type": "code",
      "execution_count": null,
      "id": "3b9eff26",
      "metadata": {
        "id": "3b9eff26",
        "outputId": "1b5e8d93-c14c-4de3-dfb2-2bdeb7eeda62"
      },
      "outputs": [
        {
          "name": "stdout",
          "output_type": "stream",
          "text": [
            "1 2 5 6\n",
            "3 6\n"
          ]
        }
      ],
      "source": [
        "n = list(map(int, input().split())) #создала массив\n",
        "def find(n):\n",
        "    m = n[0] #пусть максимум это первый элемент массива\n",
        "    k = 0\n",
        "    for i, elem in enumerate(n):\n",
        "        if elem >= m:\n",
        "            m = elem\n",
        "            k = i\n",
        "    return k,m\n",
        "k,m = find(n)\n",
        "print(k, m)"
      ]
    },
    {
      "cell_type": "code",
      "execution_count": null,
      "id": "ecda5242",
      "metadata": {
        "id": "ecda5242",
        "outputId": "0f56367d-26a2-4f50-ffc0-f04744f66ec3"
      },
      "outputs": [
        {
          "name": "stdout",
          "output_type": "stream",
          "text": [
            "1 2 5 5\n"
          ]
        },
        {
          "data": {
            "text/plain": [
              "(5, [3, 2])"
            ]
          },
          "execution_count": 65,
          "metadata": {},
          "output_type": "execute_result"
        }
      ],
      "source": [
        "n = list(map(int, input().split())) #создала массив\n",
        "def find(n):\n",
        "    m = n[0] #пусть максимум это первый элемент массива\n",
        "    k = -1\n",
        "    for i, elem in enumerate(n):\n",
        "        if elem >= m:\n",
        "            m = elem\n",
        "            k = i\n",
        "    return k,m\n",
        "\n",
        "k,m = find(n)\n",
        "res = []\n",
        "while n.count(m)>1:\n",
        "    res.append(k)\n",
        "    n.pop(k)\n",
        "    k,m = find(n)\n",
        "\n",
        "res.append(k)\n",
        "\n",
        "m,res"
      ]
    },
    {
      "cell_type": "markdown",
      "id": "b128dfb0",
      "metadata": {
        "id": "b128dfb0"
      },
      "source": [
        "Проверка простоты числа. Метод грубой силы. https://youtu.be/0CFjzhb1D_s?si=NEfsKKvufC0peD8n"
      ]
    },
    {
      "cell_type": "code",
      "execution_count": null,
      "id": "900b03b1",
      "metadata": {
        "id": "900b03b1",
        "outputId": "0f4e5b32-c018-4c37-8beb-ebe4276f836d"
      },
      "outputs": [
        {
          "name": "stdout",
          "output_type": "stream",
          "text": [
            "19\n",
            "simple\n"
          ]
        }
      ],
      "source": [
        "from math import sqrt\n",
        "\n",
        "n = int(input())\n",
        "simple = True #предполагаем, что было введено простое число\n",
        "\n",
        "i = 2 #перебираем делители, начиная с 2\n",
        "while i <= sqrt(n): #так получилось, что макс делитель это корень из числа\n",
        "    if n % i == 0:\n",
        "        simple = False #если делится без остатка, то число не простое и наше предположение неверно\n",
        "        break\n",
        "    i += 1 #постепенно увеличиваем i\n",
        "if simple:\n",
        "    print('simple')\n",
        "else:\n",
        "    print('cringe')\n"
      ]
    },
    {
      "cell_type": "markdown",
      "id": "842f2008",
      "metadata": {
        "id": "842f2008"
      },
      "source": [
        "Разложение числа на множители."
      ]
    },
    {
      "cell_type": "code",
      "execution_count": null,
      "id": "1f34d5de",
      "metadata": {
        "id": "1f34d5de",
        "outputId": "720eb501-9a9e-4763-b258-fbc34d524c2d"
      },
      "outputs": [
        {
          "name": "stdout",
          "output_type": "stream",
          "text": [
            "140\n",
            "[2, 2, 5, 7]\n"
          ]
        }
      ],
      "source": [
        "def factorize(n):\n",
        "    divisors = [] #создаем пустой массив, куда будем пихать множители\n",
        "    div = 2 #ищем множители, начиная с 2, тк на 1 делятся все\n",
        "    while n > 1:\n",
        "        if n % div == 0: #если так, то это нам подходит\n",
        "            n = n / div\n",
        "            divisors.append(div)\n",
        "        else:\n",
        "            div += 1\n",
        "    return divisors\n",
        "n = int(input())\n",
        "print(factorize(n))"
      ]
    },
    {
      "cell_type": "markdown",
      "id": "7dc8f0ce",
      "metadata": {
        "id": "7dc8f0ce"
      },
      "source": [
        "Решето Эратосфена"
      ]
    },
    {
      "cell_type": "markdown",
      "id": "9925cd78",
      "metadata": {
        "id": "9925cd78"
      },
      "source": [
        "Это алгоритм, позволяющий находить простые числа.Суть в том, что удаляем числа кратные 2, затем 3 и тд. https://youtu.be/LMc07ydUcSo?si=A2UVxYtsC5HwSFrC"
      ]
    },
    {
      "cell_type": "code",
      "execution_count": null,
      "id": "04e27f5d",
      "metadata": {
        "id": "04e27f5d",
        "outputId": "25810766-2908-4d66-8436-1beeb188e0f1"
      },
      "outputs": [
        {
          "name": "stdout",
          "output_type": "stream",
          "text": [
            "24\n",
            "2 3 5 7 11 13 17 19 23\n"
          ]
        }
      ],
      "source": [
        "n = int(input())\n",
        "a = [i for i in range(n+1)] #создаем список целых чисел до n включительно\n",
        "#сделаем так, чтобы вместо составных чисел в массиве появились 0\n",
        "a[1] = 0 #число 1 нам не нужно, сразу занулим его\n",
        "i = 2\n",
        "while i <= n**0.5:\n",
        "    if a[i] != 0: #если так, то мы встретили простое число, будем вычеркивать кратные ему числа\n",
        "        j = i**2\n",
        "        while j <= n:\n",
        "            a[j] = 0\n",
        "            j = j + i\n",
        "    i = i + 1\n",
        "#теперь у нас вместо составных чисел нули, поэтому для удобства уберем их из массива, оставив только простые числа\n",
        "a = [i for i in a if a[i] != 0]\n",
        "print(*a)\n",
        "#Оценка временной сложности алгоритма - см у Марка"
      ]
    },
    {
      "cell_type": "markdown",
      "id": "a5811ed1",
      "metadata": {
        "id": "a5811ed1"
      },
      "source": [
        "Алгоритм обращения чисел в массиве. Реализация циклом, без срезов."
      ]
    },
    {
      "cell_type": "code",
      "execution_count": null,
      "id": "d2b09e19",
      "metadata": {
        "id": "d2b09e19",
        "outputId": "aa093c5a-a946-4502-fbcd-8f6c57796758"
      },
      "outputs": [
        {
          "name": "stdout",
          "output_type": "stream",
          "text": [
            "[5, 4, 3, 2, 1]\n"
          ]
        }
      ],
      "source": [
        "def reverse_array(l):\n",
        "    for i in range(len(l)//2): #Она проходит по первой половине списка (до середины). Причина в том, что если мы поменяем элементы и в первой, и во второй половине, мы, по сути, просто поменяем их местами. Поэтому достаточно поменять местами только элементы в первой половине.\n",
        "        l[i], l[len(l) - i - 1] = l[len(l) - i - 1], l[i] #Меняем с начала и с колнца массива\n",
        "l = [1, 2, 3, 4, 5]\n",
        "reverse_array(l)\n",
        "print(l)"
      ]
    },
    {
      "cell_type": "markdown",
      "id": "f1fa4116",
      "metadata": {
        "id": "f1fa4116"
      },
      "source": [
        "Алгоритм циклического сдвига в массиве"
      ]
    },
    {
      "cell_type": "code",
      "execution_count": null,
      "id": "bf46b990",
      "metadata": {
        "id": "bf46b990",
        "outputId": "5d47c524-7560-40da-f7b8-db9db58f8cd1"
      },
      "outputs": [
        {
          "name": "stdout",
          "output_type": "stream",
          "text": [
            "1 2 3 4 5 6 7 8 9\n",
            "2\n",
            "8 9 1 2 3 4 5 6 7\n"
          ]
        }
      ],
      "source": [
        "n = list(map(int, input().split()))\n",
        "steps = int(input())\n",
        "for i in range(steps):\n",
        "    n.insert(0, n.pop()) #pop - извлекает последний элемент по умолчанию, insert - вставляет значение по индексу\n",
        "print(*n)"
      ]
    },
    {
      "cell_type": "markdown",
      "id": "3f9bd508",
      "metadata": {
        "id": "3f9bd508"
      },
      "source": [
        "Сортировка вставками. Оценка временной сложности ал-\n",
        "горитма."
      ]
    },
    {
      "cell_type": "markdown",
      "id": "51abe08d",
      "metadata": {
        "id": "51abe08d"
      },
      "source": [
        "Наша задача последовательно сранивать один элемент с другими и вставлять его на нужное место(см selfedu)"
      ]
    },
    {
      "cell_type": "code",
      "execution_count": null,
      "id": "48acd20e",
      "metadata": {
        "id": "48acd20e",
        "outputId": "31636e0f-0b90-45d9-d95b-46a0962dff1e"
      },
      "outputs": [
        {
          "name": "stdout",
          "output_type": "stream",
          "text": [
            "1 2 7 4 6 5 3\n",
            "1 2 3 4 5 6 7\n"
          ]
        }
      ],
      "source": [
        "n = list(map(int, input().split()))\n",
        "for i in range(1, len(n)): #i не затрагивает самый первыйэлемент в массиве и доходит до конца, говорит какие эл-ты сравниваем\n",
        "    for j in range(i, 0, -1): #j пробегает массив длиной в 2 эл-та(от 2ого к первому)\n",
        "        if n[j] < n[j-1]:\n",
        "            n[j], n[j-1] = n[j-1], n[j]\n",
        "        else:\n",
        "            break\n",
        "print(*n)\n",
        "#квадратичная ассимптотика"
      ]
    },
    {
      "cell_type": "markdown",
      "id": "236f556b",
      "metadata": {
        "id": "236f556b"
      },
      "source": [
        "Сортировка выбором. Оценка временной сложности алгоритма."
      ]
    },
    {
      "cell_type": "markdown",
      "id": "8593c81e",
      "metadata": {
        "id": "8593c81e"
      },
      "source": [
        "Cуть в том, что фиксируем i, j бегает по оставшимся значениям и находит меньший эл-т, пихает его в спомогательную t, затем производим обмен"
      ]
    },
    {
      "cell_type": "code",
      "execution_count": null,
      "id": "4ff6edf7",
      "metadata": {
        "id": "4ff6edf7",
        "outputId": "2a0e21fd-aea4-454d-8c00-8feced632a77"
      },
      "outputs": [
        {
          "name": "stdout",
          "output_type": "stream",
          "text": [
            "-3 5 0 -8 1 10\n",
            "-8 -3 0 1 5 10\n"
          ]
        }
      ],
      "source": [
        "n = list(map(int, input().split()))\n",
        "for i in range(len(n)-1):\n",
        "    m = n[i] #хранит мин значение\n",
        "    p = i #хранит индекс мин значения\n",
        "    for j in range(i+1, len(n)): #здесь ищется мин значение из оставшихся\n",
        "        if m > n[j]:\n",
        "            m = n[j]\n",
        "            p = j\n",
        "    if p!= i: #обмен значениями, если был найден мин элемент не в i-ой позиции\n",
        "        t = n[i]\n",
        "        n[i] = n[p]\n",
        "        n[p] = t\n",
        "print(*n)\n",
        "#квадратичная ассимптотика"
      ]
    },
    {
      "cell_type": "markdown",
      "id": "e00aec05",
      "metadata": {
        "id": "e00aec05"
      },
      "source": [
        "Сортировка пузырьком"
      ]
    },
    {
      "cell_type": "markdown",
      "id": "220b31fd",
      "metadata": {
        "id": "220b31fd"
      },
      "source": [
        "Попарно сравниваем элементы и если необходимо, то меняем их местами. Таким образом у нас всплывают максимальные эл-ты в конце"
      ]
    },
    {
      "cell_type": "code",
      "execution_count": null,
      "id": "4ed4ee78",
      "metadata": {
        "id": "4ed4ee78",
        "outputId": "627df273-a8f7-4127-bd88-42e1a292e320"
      },
      "outputs": [
        {
          "name": "stdout",
          "output_type": "stream",
          "text": [
            "-3 5 0 -8 1 10\n",
            "-8 -3 0 1 5 10\n"
          ]
        }
      ],
      "source": [
        "n = list(map(int, input().split()))\n",
        "for i in range(0, len(n)-1): #N-1 иттерация\n",
        "    for j in range(0, len(n)-1-i): #проход по неотсортированным парам\n",
        "        if n[j+1] < n[j]:\n",
        "            n[j+1],n[j] = n[j], n[j+1]\n",
        "print(*n)\n",
        "#квадратичная ассимптотика"
      ]
    },
    {
      "cell_type": "markdown",
      "id": "b9aeab7b",
      "metadata": {
        "id": "b9aeab7b"
      },
      "source": [
        "Сортировка подсчётом. Оценка временной сложности\n",
        "алгоритма."
      ]
    },
    {
      "cell_type": "markdown",
      "id": "e1598bf4",
      "metadata": {
        "id": "e1598bf4"
      },
      "source": [
        "Основная идея - считаем сколько раз встречается элемент и заносим его в яйчейки"
      ]
    },
    {
      "cell_type": "code",
      "execution_count": null,
      "id": "e75883f2",
      "metadata": {
        "id": "e75883f2",
        "outputId": "e595c239-28a3-4ab4-ad10-5e6b325091ef"
      },
      "outputs": [
        {
          "name": "stdout",
          "output_type": "stream",
          "text": [
            "102453\n",
            "0 1\n",
            "1 1\n",
            "2 1\n",
            "3 1\n",
            "4 1\n",
            "5 1\n"
          ]
        }
      ],
      "source": [
        "n = int(input())\n",
        "a = [0]*10 #для начала так, по мере подсчета заполняем яйчейки\n",
        "for i in str(n): #переводим в строку, а то вылезет ошибка\n",
        "    digit = int(i)\n",
        "    a[digit] += 1\n",
        "for i in range(10):\n",
        "    if a[i] > 0:\n",
        "        print(i,a[i])\n",
        "#линейная ассимптотика"
      ]
    },
    {
      "cell_type": "markdown",
      "id": "ec09d096",
      "metadata": {
        "id": "ec09d096"
      },
      "source": [
        "Поразрядная сортировка"
      ]
    },
    {
      "cell_type": "markdown",
      "id": "ba2d3fc3",
      "metadata": {
        "id": "ba2d3fc3"
      },
      "source": [
        "Смысл поразрядной сортировки в том, что мы сначала делим данные по разрядам, а потом сортируем их внутри каждого разряда. Для этого нужно заранее выяснить два момента: сколько элементов в массиве и сколько разрядов у самого длинного элемента.\n",
        "Линейная ассимптотика.\n",
        "https://thecode.media/radix/"
      ]
    },
    {
      "cell_type": "code",
      "execution_count": null,
      "id": "9264a055",
      "metadata": {
        "id": "9264a055",
        "outputId": "3c6668e7-598e-4f59-879d-69be218b3bb4"
      },
      "outputs": [
        {
          "name": "stdout",
          "output_type": "stream",
          "text": [
            "[5, 42, 276, 24395739293, 137137105157, 474290561035]\n"
          ]
        }
      ],
      "source": [
        "# поразрядная сортировка - наша задача скомпановать идею разрядов с идеей сортировки подсчетом\n",
        "def radix_sort(arr):\n",
        "\n",
        "    # находим размер самого длинного числа\n",
        "    max_digits = max([len(str(x)) for x in arr])\n",
        "\n",
        "    # основание системы счисления\n",
        "    base = 10\n",
        "\n",
        "    # создаём промежуточный пустой массив из 10 элементов\n",
        "    bins = [[] for _ in range(base)]\n",
        "\n",
        "    # перебираем все разряды, начиная с нулевого\n",
        "    for i in range(0, max_digits):\n",
        "        # для удобства выводим текущий номер разряда, с которым будем работать\n",
        "        #print('✅ Номер разряда → ' + str(i))\n",
        "        # перебираем все элементы в массиве\n",
        "        for x in arr:\n",
        "            # получаем цифру, стоящую на текущем разряде в каждом числе массива\n",
        "            digit = (x // base ** i) % base\n",
        "            # отправляем число в промежуточный массив в ячейку, которая совпадает со значением этой цифры\n",
        "            bins[digit].append(x)\n",
        "        # собираем в исходный массив все ненулевые значения из промежуточного массива\n",
        "        arr = [x for queue in bins for x in queue]\n",
        "        # текущее состояние массива\n",
        "        #print(arr)\n",
        "        # текущее состояние промежуточного массива\n",
        "        #print(bins)\n",
        "\n",
        "        # очищаем промежуточный массив\n",
        "        bins = [[] for _ in range(base)]\n",
        "\n",
        "    # возвращаем отсортированный массив\n",
        "    return arr\n",
        "\n",
        "\n",
        "# запускаем сортировку\n",
        "print(radix_sort([137137105157, 24395739293, 474290561035, 5, 276, 42]))"
      ]
    },
    {
      "cell_type": "markdown",
      "id": "fd921963",
      "metadata": {
        "id": "fd921963"
      },
      "source": [
        "Быстрая сортировка Хоара"
      ]
    },
    {
      "cell_type": "markdown",
      "id": "c0669e1b",
      "metadata": {
        "id": "c0669e1b"
      },
      "source": [
        "Суть в том, что среди всех значений в массиве нам нужно выделить малые и большие. Для этой оценки выбираем рандомный элемент массива и будем оценивать другие элементы относительно него. Исходный массив разбиваем на две части: массив1 с эл-ами меньше выбранного эл-та, массив2 с эл-ами равными выбр-ому и массив3 с теми кто больше выбр-ого. Далее работаем с полученным массивом3 и повторяем те же действия. Делаем так пока не получим массивы с одним эл-ом в каждом, затем собираем все вместе и получаем отсортированный массив.\n",
        "Ассимптотика: O(n) = nlog2(n). Наихудший вариант работы - O(N^2) - возникает, если каждый раз выбирать не любой эл-т, а только первый"
      ]
    },
    {
      "cell_type": "code",
      "execution_count": null,
      "id": "9b2f7460",
      "metadata": {
        "id": "9b2f7460",
        "outputId": "4496a3fd-5bd9-4890-8359-0a3552e119bd"
      },
      "outputs": [
        {
          "name": "stdout",
          "output_type": "stream",
          "text": [
            "9 5 -3 4 7 8 -8\n",
            "-8 -3 4 5 7 8 9\n"
          ]
        }
      ],
      "source": [
        "import random\n",
        "\n",
        "def hoar_sort(n):\n",
        "    if len(n) > 1: #если так, то можем разбить этот массив\n",
        "        x = n[random.randint(0, len(n)-1)] #рандомно выбираем эл-нт отн-но которого будем производить оценку\n",
        "        low =[i for i in n if i < x]\n",
        "        eq =[i for i in n if i == x]\n",
        "        hig =[i for i in n if i > x]\n",
        "        n = hoar_sort(low) + eq + hoar_sort(hig)\n",
        "    return n\n",
        "\n",
        "n = list(map(int, input().split()))\n",
        "n = hoar_sort(n)\n",
        "print(*n)"
      ]
    },
    {
      "cell_type": "markdown",
      "id": "b2920f02",
      "metadata": {
        "id": "b2920f02"
      },
      "source": [
        "Сортировка слиянием"
      ]
    },
    {
      "cell_type": "markdown",
      "id": "0d6d69a0",
      "metadata": {
        "id": "0d6d69a0"
      },
      "source": [
        "Разбиваем исходный массив на 2 (с помощью целочисленного деления). Разбиваем до тех пор, пока не образуются массивы только с одним элементом(получаем клеточку). Дальше мы проводим слияние: смотрим на пары массивов и в каждой паре находим массив с наименьшим эл-ом => записываем этот эл-нт в начало, а второй в конец. Таким образом из 'одной клеточки' получаются 'две клеточки' с отсортированными эл-ами. Затем продолжаем повторять такую же процедуру пока не получим отсортированный массив.\n",
        "Ассимптотическая сложность: nlog2(n)."
      ]
    },
    {
      "cell_type": "code",
      "execution_count": null,
      "id": "d03b0b8d",
      "metadata": {
        "id": "d03b0b8d",
        "outputId": "59e32c51-6721-444c-99a9-9af81d6bf030"
      },
      "outputs": [
        {
          "name": "stdout",
          "output_type": "stream",
          "text": [
            "9 5 -3 4 7 8 -8\n",
            "-8 -3 4 5 7 8 9\n"
          ]
        }
      ],
      "source": [
        "#определим функцию слияния двух отсортированных массивов\n",
        "def merge_sort(a, b):\n",
        "    c = []\n",
        "    N = len(a)\n",
        "    M = len(b)\n",
        "\n",
        "    i = 0 #счетчик для a\n",
        "    j = 0 #счетчик для b\n",
        "    while i < N and j < M:\n",
        "        if a[i] <= b[j]:\n",
        "            c.append(a[i])\n",
        "            i += 1\n",
        "        else:\n",
        "            c.append(b[j])\n",
        "            j += 1\n",
        "    c += a[i:] + b[j:]\n",
        "    return c\n",
        "#определим функцию деления и слияния массивов в общий отсортированный массив\n",
        "def split_merge_list(n):\n",
        "    N1 = len(n) // 2\n",
        "    a = n[:N1]       #делим исходный массив на 2(примерно одинак-ой длины)\n",
        "    b = n[N1:]\n",
        "\n",
        "    if len(a) > 1: #если так, то делим дальше\n",
        "        a = split_merge_list(a)\n",
        "    if len(b) > 1:\n",
        "        b = split_merge_list(b)\n",
        "    return merge_sort(a, b) #возвращаем слияние двух отсортированных списков в один\n",
        "\n",
        "n = list(map(int, input().split()))\n",
        "n = split_merge_list(n)\n",
        "print(*n)\n"
      ]
    },
    {
      "cell_type": "markdown",
      "id": "c4e60f78",
      "metadata": {
        "id": "c4e60f78"
      },
      "source": [
        "Двоичный поиск в отсортированном массиве (левый и\n",
        "правый).\n",
        "Двоичный поиск по ответу."
      ]
    },
    {
      "cell_type": "markdown",
      "id": "2f00b004",
      "metadata": {
        "id": "2f00b004"
      },
      "source": [
        "Двоичный поиск работает для отсортированных массивов и его суть в том, что нам нужно для начала создать три переменные: индекс нижней границы, верхней и середины.Далее мы сравниваем искомое значение со значением середитны, по ситуации меняем верхнюю или нижнюю границу. Ассимптотика: log2(n) - в худшем случае, в лучшем будет 1 (если середина совпала)\n",
        "https://youtu.be/78ZhUAxBvno?si=WdVoyFCM_LH49XnV"
      ]
    },
    {
      "cell_type": "code",
      "execution_count": null,
      "id": "1b8adf23",
      "metadata": {
        "id": "1b8adf23",
        "outputId": "0b4cbb18-d36c-4650-f4d4-b2580cf052e4"
      },
      "outputs": [
        {
          "name": "stdout",
          "output_type": "stream",
          "text": [
            "0 1 2 3 4 5 6 7 8 9\n",
            "4\n",
            "4\n"
          ]
        }
      ],
      "source": [
        "n = list(map(int, input().split()))  #введите отсортированный массив\n",
        "\n",
        "value = int(input())\n",
        "low = 0 #нижняя граница\n",
        "high = len(n) - 1 #верхняя граница\n",
        "mid = (low+high) // 2 #середина\n",
        "\n",
        "while value != n[mid]:\n",
        "    if value > n[mid]:\n",
        "        low = mid + 1 #тк все, что ниже нас не интересует\n",
        "    else:\n",
        "        high = mid - 1 #тк все, что выше нас не интересует\n",
        "    mid = (low + high) // 2 #вычисляем индекс новой середины\n",
        "\n",
        "#цикл завершится, когда mid совпадет с value и этот индекс как раз будет индексом искомого эл-та\n",
        "print(mid)\n",
        "\n"
      ]
    },
    {
      "cell_type": "markdown",
      "id": "e27db498",
      "metadata": {
        "id": "e27db498"
      },
      "source": [
        "Рекурсия. Прямой и обратный ход рекурсии. Стек вызовов при рекурсии. Вычисление факториала."
      ]
    },
    {
      "cell_type": "markdown",
      "id": "b0f3b7a1",
      "metadata": {
        "id": "b0f3b7a1"
      },
      "source": [
        "Рекурсивная функция вызывает саму себя. Когда вызывается фун-ия, то она автоматически попадает в стек вызова функций, в кот-ом хранится порядок вызова фун-ий. Если не ограничить глубину рекурсии, то этот стек переполнится и вылезет ошибка."
      ]
    },
    {
      "cell_type": "code",
      "execution_count": null,
      "id": "3cfd39bc",
      "metadata": {
        "id": "3cfd39bc",
        "outputId": "c6ced389-9530-48a6-d9cd-109d69b12447"
      },
      "outputs": [
        {
          "name": "stdout",
          "output_type": "stream",
          "text": [
            "1\n",
            "2\n",
            "3\n",
            "4\n",
            "4\n",
            "3\n",
            "2\n",
            "1\n"
          ]
        }
      ],
      "source": [
        "#пример работы рекурсии\n",
        "def recursive(val):\n",
        "    print(val)\n",
        "    if val < 4: #ограничение на глубину рекурсии\n",
        "        recursive(val+1)\n",
        "    print(val)\n",
        "recursive(1)"
      ]
    },
    {
      "cell_type": "markdown",
      "id": "7bef47c7",
      "metadata": {
        "id": "7bef47c7"
      },
      "source": [
        "Здесь наглядно видим прямой и обратный ходы рекурсии(1234, а потом 4321). С 1234 все понятно, это следует из работы программы при выполнении условия val < 4, когда у нас это условие не выполняется - следующая рекурсивная ф-ия не запускалась, НО у нас стоит print(val) в конце, кот-ый печатает текущее значение, поэтому он вывел 4, далее, когда тело этой ф-ии полностью выполнилось - мы перешли к предыдущей ф-ии и принтанули 3 и т.д."
      ]
    },
    {
      "cell_type": "code",
      "execution_count": null,
      "id": "79129534",
      "metadata": {
        "id": "79129534",
        "outputId": "cee89c03-cf36-40ef-cf7b-4c84af3d5da7"
      },
      "outputs": [
        {
          "data": {
            "text/plain": [
              "6"
            ]
          },
          "execution_count": 23,
          "metadata": {},
          "output_type": "execute_result"
        }
      ],
      "source": [
        "#вычисление факториала натурального числа\n",
        "def fact(n):\n",
        "    if n <= 0:\n",
        "        return 1\n",
        "    else: #будем вычислять факториал по рекурсии\n",
        "        return n * fact(n-1)\n",
        "fact(3)"
      ]
    },
    {
      "cell_type": "markdown",
      "id": "d914319c",
      "metadata": {
        "id": "d914319c"
      },
      "source": [
        "Гениально я считаю. https://youtu.be/dtzoBXL11oo?si=v1Oa7toGq4jwXTTQ"
      ]
    },
    {
      "cell_type": "markdown",
      "id": "338094ea",
      "metadata": {
        "id": "338094ea"
      },
      "source": [
        "Алгоритм Евклида. Доказательство корректности."
      ]
    },
    {
      "cell_type": "markdown",
      "id": "3b9891c1",
      "metadata": {
        "id": "3b9891c1"
      },
      "source": [
        "Алгоритм Евклида заключается в следующем - пусть у нас есть два числа - A и B, для\n",
        "которых необходимо найти НОД. Если A = 0, то НОД - B (и 0, и B делятся на B), и наоборот,\n",
        "если A = 0, то НОД - B. Пусть A > B. Тогда вычитаем из A B столько раз, пока B не станет\n",
        "больше A, и наоборот. И считаем НОД\n",
        "теперь для новых чисел (B и остаток). Делаем это пока одно из чисел не станет 0 и тогда\n",
        "соответсвенно второе число - НОД. https://youtu.be/IEORD_eVfCo?si=uHtXz9xgwP1JgyOs"
      ]
    },
    {
      "cell_type": "code",
      "execution_count": null,
      "id": "bbbfc00a",
      "metadata": {
        "id": "bbbfc00a",
        "outputId": "c5daeb3c-3f49-4950-ae8a-65b5b98849c7"
      },
      "outputs": [
        {
          "data": {
            "text/plain": [
              "6"
            ]
          },
          "execution_count": 24,
          "metadata": {},
          "output_type": "execute_result"
        }
      ],
      "source": [
        "def get_nod(A, B):\n",
        "    while A != B:\n",
        "        if A > B:\n",
        "            A -= B\n",
        "        else:\n",
        "            B -= A\n",
        "    return A\n",
        "get_nod(18, 24)"
      ]
    },
    {
      "cell_type": "markdown",
      "id": "0c891efd",
      "metadata": {
        "id": "0c891efd"
      },
      "source": [
        "Вычисление чисел Фибоначчи."
      ]
    },
    {
      "cell_type": "markdown",
      "id": "d517f915",
      "metadata": {
        "id": "d517f915"
      },
      "source": [
        "Ряд Фибоначчи - последовательность чисел, в кот-ой каждое следующее число равно сумме двух предыдущих. fn = fn-1 +  fn-2. https://youtu.be/vOFBUmKkjBI?si=i9UYLP0nA8YJJjLK"
      ]
    },
    {
      "cell_type": "code",
      "execution_count": null,
      "id": "2c0b1784",
      "metadata": {
        "id": "2c0b1784",
        "outputId": "d434efb8-1720-43bc-f8e0-e59d7d0bff53"
      },
      "outputs": [
        {
          "name": "stdout",
          "output_type": "stream",
          "text": [
            "6\n",
            "1 1 2 3 5 8 "
          ]
        }
      ],
      "source": [
        "f1 = 1 #исходные значения ряда\n",
        "f2 = 1\n",
        "\n",
        "n = int(input()) #количсетво эл-ов ряда, кот-ое хотим вывести\n",
        "\n",
        "print(f1, f2, end = ' ')\n",
        "while n > 2: #либо с помощью for i in range(2, n) и тогда без n -= 1\n",
        "    f1, f2 = f2, f1 + f2\n",
        "    print(f2, end = ' ')\n",
        "    n -=1"
      ]
    },
    {
      "cell_type": "markdown",
      "id": "78a3dbc3",
      "metadata": {
        "id": "78a3dbc3"
      },
      "source": [
        "Ханойские башни."
      ]
    },
    {
      "cell_type": "markdown",
      "id": "83bcf771",
      "metadata": {
        "id": "83bcf771"
      },
      "source": [
        "Задача сводится к тому, что если у нас есть n дисков, то мы должны положить (n-1) дисков на промежуточный стержень за исключением самого большого, а самый большой диск мы переложим на нужный нам стержень(например 3), затем уже потом на него последовательно, используя 1 и 2 стержни переложим n-1 дисков. https://youtu.be/HsEqxOvL0mk?si=h8kdZC9e-7D58MtR\n"
      ]
    },
    {
      "cell_type": "code",
      "execution_count": null,
      "id": "271cd121",
      "metadata": {
        "id": "271cd121",
        "outputId": "ac453ab9-e028-4418-a3f0-a9df575f2cd8"
      },
      "outputs": [
        {
          "name": "stdout",
          "output_type": "stream",
          "text": [
            "перенести диск 1 со стержня 1 на стержень 3\n",
            "перенести диск 2 со стержня 1 на стержень 2\n",
            "перенести диск 1 со стержня 3 на стержень 2\n",
            "перенести диск 3 со стержня 1 на стержень 3\n",
            "перенести диск 1 со стержня 2 на стержень 1\n",
            "перенести диск 2 со стержня 2 на стержень 3\n",
            "перенести диск 1 со стержня 1 на стержень 3\n"
          ]
        }
      ],
      "source": [
        "def hanoi(n, start, finish): #n - кол-во дисков, start - нач-ый стержень, finish - конечный\n",
        "    if n <= 0 :\n",
        "        return\n",
        "    temp = 6 - start - finish #это номер промежут-ого ст-ня, 6 - сумма номеров: 1 ст + 2 ст + 3 ст\n",
        "    hanoi(n-1, start, temp)\n",
        "    print('перенести диск',n,'со стержня', start,'на стержень', finish)\n",
        "    hanoi(n-1, temp, finish)\n",
        "hanoi(3,1,3)"
      ]
    },
    {
      "cell_type": "markdown",
      "id": "47cc33bf",
      "metadata": {
        "id": "47cc33bf"
      },
      "source": [
        "Рекурсивная генерация всех чисел длины M."
      ]
    },
    {
      "cell_type": "markdown",
      "id": "765b584e",
      "metadata": {
        "id": "765b584e"
      },
      "source": [
        "Рекурентный вызов происходит в цикле. https://youtu.be/0x0e1UNlUTI?si=opNvJzNU-Vg-0adJ"
      ]
    },
    {
      "cell_type": "code",
      "execution_count": null,
      "id": "a93d256b",
      "metadata": {
        "id": "a93d256b",
        "outputId": "d7849728-2109-40e9-87e5-6e3605eb6073"
      },
      "outputs": [
        {
          "name": "stdout",
          "output_type": "stream",
          "text": [
            "0 0\n",
            "0 1\n",
            "1 0\n",
            "1 1\n"
          ]
        }
      ],
      "source": [
        "def generate_numbers(N:int, M:int, prefix=None):\n",
        "    \"Сгенерируем все числа длины M, начинающеся с prefix(начин-ся с ничего) в системе счисления с основанием N\"\n",
        "#если длина ноль - осталось вывести только префикс\n",
        "    if M == 0:\n",
        "        print(*prefix)\n",
        "        return\n",
        "#если prefix - истина, то ворой [] не надо вычислять\n",
        "#если префикс = None - значит первое ложь => будет выполняться второе []\n",
        "    prefix = prefix or []\n",
        "#для каждой цифры - увеличиваем префикс на цифру, вызываем генерацию для этого префикса,затем из префикса удаляем последнюю цифру\n",
        "    for digit in range(N):\n",
        "        prefix.append(digit)\n",
        "        generate_numbers(N, M-1, prefix)\n",
        "        prefix.pop() #убираем последнюю цифру\n",
        "generate_numbers(2,2)"
      ]
    },
    {
      "cell_type": "markdown",
      "id": "f7b097bc",
      "metadata": {
        "id": "f7b097bc"
      },
      "source": [
        "Генерация всех перестановок (рекурсивная)."
      ]
    },
    {
      "cell_type": "code",
      "execution_count": null,
      "id": "90d7e780",
      "metadata": {
        "id": "90d7e780",
        "outputId": "c69d4836-d3b0-49c1-db5f-e42336a6a343"
      },
      "outputs": [
        {
          "name": "stdout",
          "output_type": "stream",
          "text": [
            "[1, 2, 3]\n",
            "[1, 3, 2]\n",
            "[2, 1, 3]\n",
            "[2, 3, 1]\n",
            "[3, 1, 2]\n",
            "[3, 2, 1]\n"
          ]
        }
      ],
      "source": [
        "def find(number,A):\n",
        "#ищет number в A и возвращает True, если есть и False - если нет\n",
        "    for x in A:\n",
        "        if number == x:\n",
        "            return True\n",
        "    return False\n",
        "def generate_permutations(N:int, M:int=-1, prefix=None):\n",
        "#перестановки N чисел в M позициях с префиксом prefix\n",
        "    if M == -1:\n",
        "        M=N #по умолчанию N чисел в N позициях\n",
        "#если не было передано значение префикса, считаем его пустым массивом\n",
        "    prefix = prefix or []\n",
        "#если оставшаяся длина ноль, просто выводим префикс\n",
        "    if M == 0:\n",
        "        print(prefix)\n",
        "        return\n",
        "#далее по очереди прибавляем к префиксу все числа от 1 до N, и запускаем функцию для нового префикса\n",
        "    for number in range(1,N+1):\n",
        "#проверяем, нет ли уже такого числа в префиксе(нам нужны перестановки!)\n",
        "        if find(number, prefix):\n",
        "            continue\n",
        "        prefix.append(number)\n",
        "        generate_permutations(N, M-1, prefix)\n",
        "        prefix.pop()\n",
        "generate_permutations(3)"
      ]
    },
    {
      "cell_type": "markdown",
      "id": "1e71a447",
      "metadata": {
        "id": "1e71a447"
      },
      "source": [
        "Динамическое программирование. Решение задач ДП\n",
        "циклами и рекурсией. Рекурсия с мемоизацией (ленивая\n",
        "динамика)."
      ]
    },
    {
      "cell_type": "markdown",
      "id": "c32b9257",
      "metadata": {
        "id": "c32b9257"
      },
      "source": [
        "Суть динамического программирования в том, что мы решаем сложные задачи путем разбиения их на небольшие подзадачи.В этом случае время вычислений, по сравнению с «наивными» методами, можно значительно сократить. Яркий пример: вычисление чисел Фибоначчи.\n",
        "https://youtu.be/yYiHZLFlCbg?si=A3sNVznDNJfwPzIl"
      ]
    },
    {
      "cell_type": "code",
      "execution_count": null,
      "id": "4337e668",
      "metadata": {
        "id": "4337e668",
        "outputId": "e53c9dc4-4ed3-436c-84bd-258fa42b8f78"
      },
      "outputs": [
        {
          "data": {
            "text/plain": [
              "8"
            ]
          },
          "execution_count": 10,
          "metadata": {},
          "output_type": "execute_result"
        }
      ],
      "source": [
        "#с помощью рекурсии можно реализовать поиск n-ого эл-та ряда\n",
        "def fib(n):\n",
        "    if n <= 1:\n",
        "        return n\n",
        "    return(fib(n-1)+fib(n-2))\n",
        "fib(6)\n",
        "#С памятью все плохо и ассимптотика в таком случае = O(число Фиб-чи), а числа Фиббоначи растут экспоненциально :)"
      ]
    },
    {
      "cell_type": "markdown",
      "id": "98699e29",
      "metadata": {
        "id": "98699e29"
      },
      "source": [
        "С такой ассимптотикой надо что-то делать, а именно: мы будем сохранять решения подзадач, которые мы уже решали, и когда нам снова потребуется решение подзадачи, мы вместо того, чтобы вычислять его заново, просто достанем его из памяти. Этот подход называется мемоизацией. Можно проделывать и дальнейшие оптимизации — например, если мы точно уверены, что решение подзадачи нам больше не потребуется, можно выкинуть его из памяти, освободив её для других нужд.\n"
      ]
    },
    {
      "cell_type": "code",
      "execution_count": null,
      "id": "11b005ac",
      "metadata": {
        "id": "11b005ac",
        "outputId": "af29c848-00d7-4778-c505-8e11e7db1b7f"
      },
      "outputs": [
        {
          "name": "stdout",
          "output_type": "stream",
          "text": [
            "6\n",
            "8\n"
          ]
        }
      ],
      "source": [
        "#с помощью цикла\n",
        "n = int(input())\n",
        "fib = [0,1] + [0]*(n-1) #[0,1] - ежу понятно, а [0]*(n-1) - это временно, потом будем заполнять эл-ами ряда\n",
        "for i in range(2, n+1):\n",
        "    fib[i] = fib[i-1] + fib[i-2]\n",
        "#результат хранится в fib[n],поэтому если бы это было внутри функции, то мы бы написали return fib[n]\n",
        "#и это было бы не рекурсией, а обращением к эл-ту массива\n",
        "print(fib[n])\n",
        "#не идеально по памяти, зато лучше по ассимптотике"
      ]
    },
    {
      "cell_type": "markdown",
      "id": "a4808561",
      "metadata": {
        "id": "a4808561"
      },
      "source": [
        "Задача о количестве траекторий Кузнечика на\n",
        "числовой прямой."
      ]
    },
    {
      "cell_type": "markdown",
      "id": "bee9aeab",
      "metadata": {
        "id": "bee9aeab"
      },
      "source": [
        "Кузнечик стоит на первой клетке, всего N клеток, выстроенных в цепочку. Он собирается допрыгать до\n",
        "последней клетки. Все клетки пронумерованы. Кузнечик может прыгать вперёд\n",
        "либо на 1 клетку, либо на 2 клетки вперед. Сколько способов у\n",
        "кузнечика выполнить свою задачу?"
      ]
    },
    {
      "cell_type": "markdown",
      "id": "03980b36",
      "metadata": {
        "id": "03980b36"
      },
      "source": [
        "Рассуждаем так: у кузнечика в конце пути останется 2 варианта: прыжок с N-1 клетки или прыжок с N-2 клетки. Тут надо вспомнить теорвер(блэт).Тк одновременно эти прыжки совершить не удастся => по комбинаторике можем проссумировать кол-во траекторий одного типа с кол-вом траекторий другого.Формула: K(N) = K(N-2) + K(N-1)"
      ]
    },
    {
      "cell_type": "markdown",
      "id": "9dc547e5",
      "metadata": {
        "id": "9dc547e5"
      },
      "source": [
        "НО! Если решать с помощью рекурсии, то наткнемся на пред-ую проблему с числами Фибоначчи, поэтому применяем ДП"
      ]
    },
    {
      "cell_type": "code",
      "execution_count": null,
      "id": "41937c23",
      "metadata": {
        "id": "41937c23",
        "outputId": "b6ac0c5b-78f9-4be7-c5c6-a4bb495030bc"
      },
      "outputs": [
        {
          "data": {
            "text/plain": [
              "8"
            ]
          },
          "execution_count": 34,
          "metadata": {},
          "output_type": "execute_result"
        }
      ],
      "source": [
        "def kuz(N):\n",
        "    k = [0,1] + [0]*(N) #для удобства добавим перед кузнечиком клеточку 0\n",
        "    for i in range(2, N+1):\n",
        "        k[i] = k[i-2] + k[i-1]\n",
        "    return k[N]\n",
        "kuz(6)"
      ]
    },
    {
      "cell_type": "markdown",
      "id": "f7a81f97",
      "metadata": {
        "id": "f7a81f97"
      },
      "source": [
        "Задача о траектории наименьшей стоимости для\n",
        "Кузнечика. Восстановление\n",
        "стоимости."
      ]
    },
    {
      "cell_type": "markdown",
      "id": "8cdd57ba",
      "metadata": {
        "id": "8cdd57ba"
      },
      "source": [
        "За посещение каждой клеточки выставляется ценник - массив l, считаем итоговую мин стоимость cost"
      ]
    },
    {
      "cell_type": "code",
      "execution_count": null,
      "id": "b341c19d",
      "metadata": {
        "id": "b341c19d",
        "outputId": "7ab8a287-a6a0-4ec0-9e25-059e92d4c80f"
      },
      "outputs": [
        {
          "name": "stdout",
          "output_type": "stream",
          "text": [
            "12\n"
          ]
        }
      ],
      "source": [
        "def count(l):\n",
        "    cost = [0 for i in range(len(l))]\n",
        "    cost[0] = l[0]\n",
        "    cost[1] = l[0] + l[1]\n",
        "    for i in range(2, len(l)):\n",
        "        cost[i] = min(cost[i - 1], cost[i-2]) + l[i]\n",
        "    return cost[len(l) - 1]\n",
        "l = [0, 1, 2, 3, 4, 5, 6, 7, 0] #ценник на каждую клеточку с нулями на концах для удобства\n",
        "print(count(l))"
      ]
    },
    {
      "cell_type": "markdown",
      "id": "9102f8ee",
      "metadata": {
        "id": "9102f8ee"
      },
      "source": [
        "Двумерное динамическое программирование. https://youtu.be/ey4_Fm1os54?si=-YfNShPfe-lqCiRb"
      ]
    },
    {
      "cell_type": "markdown",
      "id": "f71fe917",
      "metadata": {
        "id": "f71fe917"
      },
      "source": [
        "Существует два варианта создания двумерного массива:\n",
        "    "
      ]
    },
    {
      "cell_type": "markdown",
      "id": "93e769e6",
      "metadata": {
        "id": "93e769e6"
      },
      "source": [
        "1. Линеаризация массива: Aij = A[i*M + j], где M - число эл-ов в строке\n"
      ]
    },
    {
      "cell_type": "markdown",
      "id": "f03b17a1",
      "metadata": {
        "id": "f03b17a1"
      },
      "source": [
        "2. Список списков: A = [[0]*M for i in range(N)], где N - число строк"
      ]
    },
    {
      "cell_type": "markdown",
      "id": "567d5187",
      "metadata": {
        "id": "567d5187"
      },
      "source": [
        "Кстати, здесь можно попиздеть о ссылочной модели: A[0] == A[1], но на вопрос A[0] is A[1] мы получим ответ нет(is сравнивает не значения, а ссылки)"
      ]
    },
    {
      "cell_type": "markdown",
      "id": "6f38246a",
      "metadata": {
        "id": "6f38246a"
      },
      "source": [
        "В чем суть новой задачи на траектории: теперь у нас есть некоторое поле, в котором мы передвигаемся(представьте шахматное поле, а вы на нем королэва). В случае с кузнечиком у нас возникали числа Фибоначчи, а сейчас у нас появится треугольник Паскаля(C из n по k - вот эта фигня, ну вы поняли)"
      ]
    },
    {
      "cell_type": "markdown",
      "id": "cca8d892",
      "metadata": {
        "id": "cca8d892"
      },
      "source": [
        "На шахматной доске (8x8) стоит одна белая шашка. Сколькими способами она может пройти в дамки? Белая шашка ходит по диагонали на одну клетку вверх-вправо или вверх-влево. Шашка проходит в дамки, если попадает на верхнюю горизонталь.\n",
        "\n",
        "Формат входных данных\n",
        "Вводятся два числа от 1 до 8: номер номер столбца (считая слева) и строки (считая снизу), где изначально стоит шашка.\n",
        "\n",
        "Формат выходных данных\n",
        "Вывести одно число - количество путей в дамки"
      ]
    },
    {
      "cell_type": "code",
      "execution_count": null,
      "id": "d5a2724e",
      "metadata": {
        "id": "d5a2724e",
        "outputId": "5eb81a41-87a1-44e1-b5f6-a6f58d37a37f"
      },
      "outputs": [
        {
          "name": "stdout",
          "output_type": "stream",
          "text": [
            "3 7\n",
            "2\n"
          ]
        }
      ],
      "source": [
        "def count_way(n, m):\n",
        "    A = [[0 for el in range(8)] for el in range(8)] #создаем двумерный массив, кот-ый представляет из себя шахматную доску 8*8, заполненную 0\n",
        "    A[m-1][n-1] = 1 #Затем в клетку с координатами (m-1, n-1) записывается число 1, так как мы стартуем из этой клетки.\n",
        "\n",
        "#Далее происходит обход шахматной доски в цикле. Мы начинаем с клетки (m-1, n-1) и двигаемся вниз по доске.\n",
        "#Для каждой клетки мы смотрим два направления: вправо-вверх и влево-вверх.\n",
        "#Если мы можем сделать такой ход (не выходим за границы доски), то увеличиваем количество путей до текущей клетки на количество\n",
        "#путей до предыдущей клетки.\n",
        "\n",
        "    for i in range(m-1, 7):\n",
        "        for j in range(8):\n",
        "            if j < 7:\n",
        "                A[i+1][j+1] += A[i][j]\n",
        "            if j > 0:\n",
        "                A[i+1][j-1] += A[i][j]\n",
        "\n",
        "    return sum(A[7])\n",
        "\n",
        "#После завершения цикла суммируем все значения в последней строке массива A\n",
        "#(это соответствует количеству путей до клетки (7, 0)) и возвращаем это значение.\n",
        "\n",
        "n, m = map(int, input().split())\n",
        "\n",
        "print(count_way(n, m))\n"
      ]
    },
    {
      "cell_type": "code",
      "execution_count": null,
      "id": "0ca22743",
      "metadata": {
        "id": "0ca22743",
        "outputId": "07484782-db10-4a66-df92-302562e45c1a"
      },
      "outputs": [
        {
          "name": "stdout",
          "output_type": "stream",
          "text": [
            "0\n",
            "c4\n",
            "1\n"
          ]
        }
      ],
      "source": [
        "sett = {'a' : 1, 'b' : 2, 'c' : 3, 'd' : 4, 'e' : 5,\n",
        "              'f' : 6, 'g' : 7, 'h' : 8}\n",
        "\n",
        "Nblack = int(input())\n",
        "black = []\n",
        "if Nblack != 0:\n",
        "    for i in range(Nblack):\n",
        "        pos = input()\n",
        "        black.append( ( sett[ pos[0] ], int( pos[1] ) ) )\n",
        "pos = input()\n",
        "white = ( sett[ pos[0] ], int(pos[1]) )\n",
        "\n",
        "if white[1] == 8:\n",
        "    print(1)\n",
        "    exit()\n",
        "\n",
        "A = [ [ [0, 0] for _ in range(9) ] for _ in range(9) ]\n",
        "for el in black:\n",
        "    A[el[1]][el[0]] = [0, 1]\n",
        "A[white[1]][white[0]] = [1, 0]\n",
        "\n",
        "for i in range(white[1] + 1, 9):\n",
        "    for j in range(1, 9):\n",
        "        if j + 1 != 9 and A[i][j][1] == 1 and A[i - 1][j + 1][0] != 0:\n",
        "            A[i][j][0] += A[i - 1][j + 1][0]\n",
        "        if A[i][j][1] == 1 and A[i - 1][j - 1][0] != 0:\n",
        "            A[i][j][0] += A[i - 1][j - 1][0]\n",
        "        if A[i][j][1] == 0 and A[i - 1][j][0] != 0:\n",
        "            A[i][j][0] += A[i - 1][j][0]\n",
        "\n",
        "res = 0\n",
        "for i in range(1, 9):\n",
        "    res += A[8][i][0]\n",
        "print(res)"
      ]
    },
    {
      "cell_type": "markdown",
      "id": "b35af092",
      "metadata": {
        "id": "b35af092"
      },
      "source": [
        "Наибольшая общая подпоследовательность."
      ]
    },
    {
      "cell_type": "markdown",
      "id": "2f40cac0",
      "metadata": {
        "id": "2f40cac0"
      },
      "source": [
        "Пусть s1 и s2 - некие числовые последовательности, причем len(s1) = N, len(s2) = M. Какая максимально возможная подпоследовательность у них общая?"
      ]
    },
    {
      "cell_type": "markdown",
      "id": "9c04186c",
      "metadata": {
        "id": "9c04186c"
      },
      "source": [
        "Пусть Fij - длина наибольшей возможной подпоследовательности частей s1 и s2: s1[0:i] и s2[0:j]"
      ]
    },
    {
      "cell_type": "code",
      "execution_count": null,
      "id": "60cafbd0",
      "metadata": {
        "id": "60cafbd0",
        "outputId": "d365ff16-74b2-4280-f9a4-87cdd7462cb3"
      },
      "outputs": [
        {
          "data": {
            "text/plain": [
              "3"
            ]
          },
          "execution_count": 58,
          "metadata": {},
          "output_type": "execute_result"
        }
      ],
      "source": [
        "def lcs(s1, s2):\n",
        "    F = [[0]*(len(s2)+1) for k in range(len(s1)+1)] #тк нам нужно включить нулевые строку и столбец\n",
        "    for i in range(1, len(s1)+1):\n",
        "        for j in range(1, len(s2)+1):\n",
        "            if s1[i-1] == s2[j-1]:\n",
        "                F[i][j] = 1 + F[i-1][j-1]\n",
        "            else:\n",
        "                F[i][j] = max(F[i-1][j], F[i][j-1])\n",
        "    return F[-1][-1]\n",
        "lcs([1,2,3,4], [2,3,4,5])"
      ]
    },
    {
      "cell_type": "markdown",
      "id": "ddfff550",
      "metadata": {
        "id": "ddfff550"
      },
      "source": [
        "Теперь найдем саму подпоследовательность"
      ]
    },
    {
      "cell_type": "code",
      "execution_count": null,
      "id": "de4c2cb2",
      "metadata": {
        "id": "de4c2cb2",
        "outputId": "16b61e7d-a457-44d9-e861-42970e82974f"
      },
      "outputs": [
        {
          "data": {
            "text/plain": [
              "[2, 3, 4]"
            ]
          },
          "execution_count": 62,
          "metadata": {},
          "output_type": "execute_result"
        }
      ],
      "source": [
        "def lcs(s1, s2):\n",
        "    F = [[0]*(len(s2) + 1) for k in range(len(s1) + 1)]\n",
        "\n",
        "    for i in range(1, len(s1) + 1):\n",
        "        for j in range(1, len(s2) + 1):\n",
        "            if s1[i - 1] == s2[j - 1]:\n",
        "                F[i][j] = F[i - 1][j - 1] + 1\n",
        "            else:\n",
        "                F[i][j] = max(F[i-1][j], F[i][j-1])\n",
        "    S = []\n",
        "    n = len(s1)\n",
        "    m = len(s2)\n",
        "\n",
        "    while n > 0 and m > 0:\n",
        "        if s1[n - 1] == s2[m - 1]:\n",
        "            S.append(s1[n - 1])\n",
        "            n -= 1\n",
        "            m -= 1\n",
        "        elif F[n - 1][m] == F[n][m]:\n",
        "            n -= 1\n",
        "        else:\n",
        "            m -= 1\n",
        "\n",
        "    return S[::-1]\n",
        "lcs([1,2,3,4], [2,3,4,5])"
      ]
    },
    {
      "cell_type": "markdown",
      "id": "12a99564",
      "metadata": {
        "id": "12a99564"
      },
      "source": [
        "Наибольшая возрастающая последовательность"
      ]
    },
    {
      "cell_type": "markdown",
      "id": "743c1ba6",
      "metadata": {
        "id": "743c1ba6"
      },
      "source": [
        "Fi - НВП для части s1[0:1], кот-ая заканч-ся и содержит s1[i-1]."
      ]
    },
    {
      "cell_type": "code",
      "execution_count": null,
      "id": "0e1e9194",
      "metadata": {
        "id": "0e1e9194",
        "outputId": "d2882677-34b4-4041-88ff-1371e7db4cb8"
      },
      "outputs": [
        {
          "data": {
            "text/plain": [
              "3"
            ]
          },
          "execution_count": 72,
          "metadata": {},
          "output_type": "execute_result"
        }
      ],
      "source": [
        "def lis(s):\n",
        "    F = [0]*(len(s) + 1)\n",
        "    for i in range(1, len(s) + 1):\n",
        "        maxy = 0\n",
        "        for j in range(1, i):\n",
        "            if s[i-1] > s[j-1] and F[j] > maxy:\n",
        "                maxy = F[j]\n",
        "        F[i] = maxy + 1\n",
        "    return F[len(s)]\n",
        "\n",
        "lis([1,7,5,4,2,3])"
      ]
    },
    {
      "cell_type": "markdown",
      "id": "f3e36331",
      "metadata": {
        "id": "f3e36331"
      },
      "source": [
        "Теперь найдем саму последовательность"
      ]
    },
    {
      "cell_type": "code",
      "execution_count": null,
      "id": "4f860fbd",
      "metadata": {
        "id": "4f860fbd",
        "outputId": "8e047d00-6628-4ebb-88fe-55d7c7f4bd88"
      },
      "outputs": [
        {
          "name": "stdout",
          "output_type": "stream",
          "text": [
            "[1, 2, 4, 6]\n"
          ]
        }
      ],
      "source": [
        "def lis(s):\n",
        "    F = [0]*(len(s) + 1)\n",
        "    for i in range(1, len(s) + 1):\n",
        "        maxy = 0\n",
        "        prev_index = 0\n",
        "        for j in range(1, i):\n",
        "            if s[i-1] > s[j-1] and F[j] > maxy:\n",
        "                maxy = F[j]\n",
        "                prev_index = j\n",
        "        F[i] = maxy + 1\n",
        "\n",
        "    result = []\n",
        "    l = F[len(s)]\n",
        "    k = len(s)\n",
        "    while l > 0:\n",
        "        if F[k] == l:\n",
        "            result.insert(0, s[k-1])\n",
        "            l -= 1\n",
        "            k = prev_index\n",
        "        else:\n",
        "            k -= 1\n",
        "\n",
        "    return result\n",
        "\n",
        "s = [1, 5, 7, 8, 9, 2, 4, 6]\n",
        "print(lis(s))\n"
      ]
    },
    {
      "cell_type": "markdown",
      "id": "f1d53eb5",
      "metadata": {
        "id": "f1d53eb5"
      },
      "source": [
        "Вычисление расстояния Левенштейна. https://youtu.be/LM0n8Fy69Dc?si=CvH1fjBKcKeghOcJ"
      ]
    },
    {
      "cell_type": "markdown",
      "id": "9d735426",
      "metadata": {
        "id": "9d735426"
      },
      "source": [
        "Допустим у нас есть 2 строки, что нужно исправить в первой или какие ошибки нужно совершить, чтобы получить вторую строку."
      ]
    },
    {
      "cell_type": "markdown",
      "id": "4bcdec1d",
      "metadata": {
        "id": "4bcdec1d"
      },
      "source": [
        "Ошибки: перепутали символ, вставили лишний, потеряли символ"
      ]
    },
    {
      "cell_type": "markdown",
      "id": "238eb149",
      "metadata": {
        "id": "238eb149"
      },
      "source": [
        "В общем, делаем свой Т9"
      ]
    },
    {
      "cell_type": "markdown",
      "id": "1a16de23",
      "metadata": {
        "id": "1a16de23"
      },
      "source": [
        "Fij - редакционное расстояние между срезами s1[:i] и s2[:j]. Наш ответ: Fnm, где n - конец перовой строки, а m - второй."
      ]
    },
    {
      "cell_type": "code",
      "execution_count": null,
      "id": "76ecb81d",
      "metadata": {
        "id": "76ecb81d",
        "outputId": "16be4720-567b-41da-ad26-2432a7193528"
      },
      "outputs": [
        {
          "name": "stdout",
          "output_type": "stream",
          "text": [
            "abcdef\n",
            "cdefab\n",
            "4\n"
          ]
        }
      ],
      "source": [
        "def lev(s1, s2):\n",
        "    F = [[i+j if i*j == 0 else 0 for j in range(len(s2)+1)] for i in range(len(s1)+1) ]  #заполнили крайний случай, а все остальное нулями\n",
        "    for i in range(1, len(s1)+1):\n",
        "        for j in range(1, len(s2)+1):\n",
        "            if s1[i-1] == s2[j-1]:\n",
        "                F[i][j] = F[i-1][j-1]\n",
        "            else:\n",
        "                F[i][j] = 1 + min(F[i-1][j], F[i][j-1], F[i-1][j-1])\n",
        "    return F[len(s1)][len(s2)]\n",
        "\n",
        "s1 = input()\n",
        "s2 = input()\n",
        "print(lev(s1, s2))"
      ]
    },
    {
      "cell_type": "markdown",
      "id": "0d1a20b3",
      "metadata": {
        "id": "0d1a20b3"
      },
      "source": [
        "Префикс-функция. Алгоритм Кнута-Морриса-Пратта.\n",
        "Оценка временной сложности алгоритма."
      ]
    },
    {
      "cell_type": "markdown",
      "id": "f188c77f",
      "metadata": {
        "id": "f188c77f"
      },
      "source": [
        "Суффикс - окончание строки. Собственный суффикс - суффикс, не равный строке. Префикс функция - длина макс собств-ого суффикса, кот-ый явл-ся префиксом"
      ]
    },
    {
      "cell_type": "code",
      "execution_count": null,
      "id": "ef1150c3",
      "metadata": {
        "id": "ef1150c3"
      },
      "outputs": [],
      "source": []
    }
  ],
  "metadata": {
    "kernelspec": {
      "display_name": "Python 3 (ipykernel)",
      "language": "python",
      "name": "python3"
    },
    "language_info": {
      "codemirror_mode": {
        "name": "ipython",
        "version": 3
      },
      "file_extension": ".py",
      "mimetype": "text/x-python",
      "name": "python",
      "nbconvert_exporter": "python",
      "pygments_lexer": "ipython3",
      "version": "3.9.13"
    },
    "colab": {
      "provenance": [],
      "include_colab_link": true
    }
  },
  "nbformat": 4,
  "nbformat_minor": 5
}